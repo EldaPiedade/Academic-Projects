{
 "cells": [
  {
   "cell_type": "markdown",
   "metadata": {},
   "source": [
    "The data can be found here :\n",
    "https://www.kaggle.com/volodymyrgavrysh/heart-disease\n",
    "https://archive.ics.uci.edu/ml/datasets/Heart+Disease"
   ]
  },
  {
   "cell_type": "code",
   "execution_count": 34,
   "metadata": {},
   "outputs": [],
   "source": [
    "import pandas as pd\n",
    "import numpy as np\n",
    "import tensorflow as tf\n",
    "from tensorflow import keras\n",
    "import matplotlib.pyplot as plt\n",
    "import shutil as sh\n",
    "import os\n",
    "import project_2_dnn as run\n",
    "%matplotlib inline\n",
    "from sklearn import metrics\n",
    "import seaborn as sns; sns.set(color_codes=True)"
   ]
  },
  {
   "cell_type": "markdown",
   "metadata": {},
   "source": [
    "### Objective: \n",
    "\n",
    "<font color=\"magenta\"> Target: AHD - Diagnosis of heart disease (1 = yes; 0 = no)</font>\n",
    "\n",
    "\n",
    "The data can be found here:\n",
    "\n",
    "https://archive.ics.uci.edu/ml/datasets/Heart+Disease\n",
    "https://www.kaggle.com/volodymyrgavrysh/heart-disease"
   ]
  },
  {
   "cell_type": "markdown",
   "metadata": {},
   "source": [
    "### Pre-process Data for k-fold evaluation:"
   ]
  },
  {
   "cell_type": "code",
   "execution_count": 6,
   "metadata": {},
   "outputs": [
    {
     "name": "stdout",
     "output_type": "stream",
     "text": [
      "Input layer size 13\n"
     ]
    }
   ],
   "source": [
    "data = pd.read_csv('heart.csv')\n",
    "target = 'target'\n",
    "features = list(data.columns)\n",
    "features.remove('target')\n",
    "print(\"Input layer size\",len(features))"
   ]
  },
  {
   "cell_type": "code",
   "execution_count": null,
   "metadata": {},
   "outputs": [],
   "source": [
    "for i in range(5):\n",
    "    test_inds = np.append(np.random.choice((np.where(data['target']==0))[0], 40, replace=False), np.random.choice((np.where(data['target']==1))[0], 40, replace=False))\n",
    "    train_inds = list(set(range(len(data['target']))) - set(test_inds))\n",
    "    \n",
    "    # Save Index\n",
    "    np.savetxt(f\"test_idx{i}.csv\", test_inds, delimiter=\",\")\n",
    "    np.savetxt(f\"train_idx{i}.csv\", train_inds, delimiter=\",\")\n"
   ]
  },
  {
   "cell_type": "markdown",
   "metadata": {},
   "source": [
    "### Create 4 Model Structures :"
   ]
  },
  {
   "cell_type": "code",
   "execution_count": null,
   "metadata": {},
   "outputs": [],
   "source": [
    "\n",
    "input_dim = 13\n",
    "nums = range(0,4) # model ID\n",
    "l1_array = [13,13,13,13] # first layer neurons\n",
    "hidden_layers_array= [[7],[10,5,2],[8,4],[9,6,3]] # hidden layer n of neurons\n",
    "num_hidden_layer_array = [1,3,2,3] # number of hidden layers\n",
    "epochs = 100\n",
    "model_num_1 = 0\n",
    "model_num_2 = 4"
   ]
  },
  {
   "cell_type": "markdown",
   "metadata": {},
   "source": [
    "### Train Models:"
   ]
  },
  {
   "cell_type": "code",
   "execution_count": null,
   "metadata": {},
   "outputs": [],
   "source": [
    "run.train(input_dim,l1_array,hidden_layers_array,num_hidden_layer_array,epochs,\n",
    "      model_num_1,model_num_2,features,target,data,'Train_Models')"
   ]
  },
  {
   "cell_type": "markdown",
   "metadata": {},
   "source": [
    "### Evaluate Models :"
   ]
  },
  {
   "cell_type": "code",
   "execution_count": 2,
   "metadata": {},
   "outputs": [],
   "source": [
    "model_name_list = ['Model_0',\n",
    "                  'Model_1',\n",
    "                  'Model_2',\n",
    "                  'Model_3']"
   ]
  },
  {
   "cell_type": "markdown",
   "metadata": {},
   "source": [
    "##### Model 0"
   ]
  },
  {
   "cell_type": "code",
   "execution_count": 13,
   "metadata": {},
   "outputs": [],
   "source": [
    "\n",
    "sensitivity , specificity, auc, fpr, tpr, thresholds, acc = run.new_evaluate(model_name_list[0],data,features,target)\n",
    "\n",
    "Model = pd.DataFrame({'sensitivity':sensitivity,\n",
    "                      'specificity': specificity,\n",
    "                      'auc': auc,\n",
    "                      'acc': acc},\n",
    "                     index = list(range(5)))\n",
    "\n",
    "averages = pd.DataFrame({'sensitivity':[np.mean(sensitivity),np.median(sensitivity)],\n",
    "                      'specificity':[np.mean(specificity), np.median(specificity)],\n",
    "                      'auc': [np.mean(auc),np.median(auc)],\n",
    "                        'acc': [np.mean(acc),np.median(auc)]},\n",
    "            index = ['average','median'])"
   ]
  },
  {
   "cell_type": "code",
   "execution_count": 14,
   "metadata": {},
   "outputs": [],
   "source": [
    "Model = Model.append(averages)\n",
    "\n",
    "Model.to_csv(f\"{model_name_list[0]}_eval.csv\")"
   ]
  },
  {
   "cell_type": "markdown",
   "metadata": {},
   "source": [
    "##### Model 1"
   ]
  },
  {
   "cell_type": "code",
   "execution_count": 10,
   "metadata": {},
   "outputs": [],
   "source": [
    "\n",
    "sensitivity , specificity, auc, fpr, tpr, thresholds, acc = run.new_evaluate(model_name_list[1],data,features,target)\n",
    "\n",
    "Model = pd.DataFrame({'sensitivity':sensitivity,\n",
    "                      'specificity': specificity,\n",
    "                      'auc': auc,\n",
    "                      'acc': acc},\n",
    "                     index = list(range(5)))\n",
    "\n",
    "averages = pd.DataFrame({'sensitivity':[np.mean(sensitivity),np.median(sensitivity)],\n",
    "                      'specificity':[np.mean(specificity), np.median(specificity)],\n",
    "                      'auc': [np.mean(auc),np.median(auc)],\n",
    "                        'acc': [np.mean(acc),np.median(auc)]},\n",
    "            index = ['average','median'])\n",
    "Model = Model.append(averages)\n",
    "\n",
    "Model.to_csv(f\"{model_name_list[1]}_eval.csv\")"
   ]
  },
  {
   "cell_type": "markdown",
   "metadata": {},
   "source": [
    "##### Model 2"
   ]
  },
  {
   "cell_type": "code",
   "execution_count": 11,
   "metadata": {},
   "outputs": [],
   "source": [
    "\n",
    "sensitivity , specificity, auc, fpr, tpr, thresholds, acc = run.new_evaluate(model_name_list[2],data,features,target)\n",
    "\n",
    "Model = pd.DataFrame({'sensitivity':sensitivity,\n",
    "                      'specificity': specificity,\n",
    "                      'auc': auc,\n",
    "                      'acc': acc},\n",
    "                     index = list(range(5)))\n",
    "\n",
    "averages = pd.DataFrame({'sensitivity':[np.mean(sensitivity),np.median(sensitivity)],\n",
    "                      'specificity':[np.mean(specificity), np.median(specificity)],\n",
    "                      'auc': [np.mean(auc),np.median(auc)],\n",
    "                        'acc': [np.mean(acc),np.median(auc)]},\n",
    "            index = ['average','median'])\n",
    "Model = Model.append(averages)\n",
    "\n",
    "Model.to_csv(f\"{model_name_list[2]}_eval.csv\")"
   ]
  },
  {
   "cell_type": "markdown",
   "metadata": {},
   "source": [
    "#### Model 3"
   ]
  },
  {
   "cell_type": "code",
   "execution_count": 12,
   "metadata": {},
   "outputs": [],
   "source": [
    "\n",
    "sensitivity , specificity, auc, fpr, tpr, thresholds, acc = run.new_evaluate(model_name_list[3],data,features,target)\n",
    "\n",
    "Model = pd.DataFrame({'sensitivity':sensitivity,\n",
    "                      'specificity': specificity,\n",
    "                      'auc': auc,\n",
    "                      'acc': acc},\n",
    "                     index = list(range(5)))\n",
    "\n",
    "averages = pd.DataFrame({'sensitivity':[np.mean(sensitivity),np.median(sensitivity)],\n",
    "                      'specificity':[np.mean(specificity), np.median(specificity)],\n",
    "                      'auc': [np.mean(auc),np.median(auc)],\n",
    "                        'acc': [np.mean(acc),np.median(auc)]},\n",
    "            index = ['average','median'])\n",
    "Model = Model.append(averages)\n",
    "\n",
    "Model.to_csv(f\"{model_name_list[3]}_eval.csv\")"
   ]
  },
  {
   "cell_type": "markdown",
   "metadata": {},
   "source": [
    "### Best Model :"
   ]
  },
  {
   "cell_type": "markdown",
   "metadata": {},
   "source": [
    "When dealing with classifications problems one must not focus only on the accuracy of the model. A model that always classifies the majority class maybe 90% accurate. To deal with this issue we use other metrics.\n",
    "* sensitivity: the ability of a test to correctly identify those with the disease ( TP / FN + TP) is the true positive rate).\n",
    "* specificity: the skill of the model to correctly identify those without the disease (true negative rate)\n",
    "* AUC (Area under the ROC Curve): provides an aggregate measure of performance across all possible classification thresholds.  (A model whose predictions are 100% wrong has an AUC of 0.0; one whose predictions are 100% correct has an AUC of 1.0)\n",
    "\n",
    "<font color=\"magenta\">The model with the best skill is Model 0 .</font>\n"
   ]
  },
  {
   "cell_type": "code",
   "execution_count": 22,
   "metadata": {},
   "outputs": [
    {
     "data": {
      "text/html": [
       "<div>\n",
       "<style scoped>\n",
       "    .dataframe tbody tr th:only-of-type {\n",
       "        vertical-align: middle;\n",
       "    }\n",
       "\n",
       "    .dataframe tbody tr th {\n",
       "        vertical-align: top;\n",
       "    }\n",
       "\n",
       "    .dataframe thead th {\n",
       "        text-align: right;\n",
       "    }\n",
       "</style>\n",
       "<table border=\"1\" class=\"dataframe\">\n",
       "  <thead>\n",
       "    <tr style=\"text-align: right;\">\n",
       "      <th></th>\n",
       "      <th>Sensitivity</th>\n",
       "      <th>Specificity</th>\n",
       "      <th>AUC</th>\n",
       "      <th>Accuracy</th>\n",
       "    </tr>\n",
       "    <tr>\n",
       "      <th>ID</th>\n",
       "      <th></th>\n",
       "      <th></th>\n",
       "      <th></th>\n",
       "      <th></th>\n",
       "    </tr>\n",
       "  </thead>\n",
       "  <tbody>\n",
       "    <tr>\n",
       "      <th>Model 0</th>\n",
       "      <td>0.89</td>\n",
       "      <td>0.78</td>\n",
       "      <td>0.91</td>\n",
       "      <td>0.83</td>\n",
       "    </tr>\n",
       "    <tr>\n",
       "      <th>Model 1</th>\n",
       "      <td>1.00</td>\n",
       "      <td>0.00</td>\n",
       "      <td>0.50</td>\n",
       "      <td>0.50</td>\n",
       "    </tr>\n",
       "    <tr>\n",
       "      <th>Model 2</th>\n",
       "      <td>0.86</td>\n",
       "      <td>0.72</td>\n",
       "      <td>0.86</td>\n",
       "      <td>0.79</td>\n",
       "    </tr>\n",
       "    <tr>\n",
       "      <th>Model 3</th>\n",
       "      <td>1.00</td>\n",
       "      <td>0.00</td>\n",
       "      <td>0.50</td>\n",
       "      <td>0.50</td>\n",
       "    </tr>\n",
       "  </tbody>\n",
       "</table>\n",
       "</div>"
      ],
      "text/plain": [
       "         Sensitivity  Specificity   AUC  Accuracy\n",
       "ID                                               \n",
       "Model 0         0.89         0.78  0.91      0.83\n",
       "Model 1         1.00         0.00  0.50      0.50\n",
       "Model 2         0.86         0.72  0.86      0.79\n",
       "Model 3         1.00         0.00  0.50      0.50"
      ]
     },
     "execution_count": 22,
     "metadata": {},
     "output_type": "execute_result"
    }
   ],
   "source": [
    "results = pd.read_csv('Results.csv', index_col = 'ID')\n",
    "results.drop('Unnamed: 5',axis =1, inplace = True)\n",
    "results"
   ]
  },
  {
   "cell_type": "markdown",
   "metadata": {},
   "source": [
    "### Evaluate Model 0 with Plots"
   ]
  },
  {
   "cell_type": "code",
   "execution_count": 51,
   "metadata": {},
   "outputs": [],
   "source": [
    "test_inds = np.append(np.random.choice((np.where(data['target']==0))[0], 40, replace=False), np.random.choice((np.where(data['target']==1))[0], 40, replace=False))\n",
    "train_inds = list(set(range(len(data['target']))) - set(test_inds))"
   ]
  },
  {
   "cell_type": "code",
   "execution_count": 59,
   "metadata": {},
   "outputs": [
    {
     "name": "stdout",
     "output_type": "stream",
     "text": [
      "Model: \"sequential_4\"\n",
      "_________________________________________________________________\n",
      "Layer (type)                 Output Shape              Param #   \n",
      "=================================================================\n",
      "dense_12 (Dense)             (None, 13)                182       \n",
      "_________________________________________________________________\n",
      "dense_13 (Dense)             (None, 7)                 98        \n",
      "_________________________________________________________________\n",
      "dense_14 (Dense)             (None, 1)                 8         \n",
      "=================================================================\n",
      "Total params: 288\n",
      "Trainable params: 288\n",
      "Non-trainable params: 0\n",
      "_________________________________________________________________\n",
      "(80, 13) (223, 13)\n"
     ]
    }
   ],
   "source": [
    "model =  run.baseline_model(13,13,[7],1)\n",
    "model.summary()\n",
    "\n",
    "trainX= data.loc[train_inds][features]\n",
    "trainy=data.loc[train_inds][target]\n",
    "\n",
    "validX= data.loc[test_inds][features]\n",
    "validy=data.loc[test_inds][target]\n",
    "\n",
    "print(validX.shape,trainX.shape)"
   ]
  },
  {
   "cell_type": "code",
   "execution_count": 60,
   "metadata": {},
   "outputs": [],
   "source": [
    "callbacks = run.myCallback()\n",
    "history = model.fit(trainX,trainy, epochs = 400,\n",
    "                            verbose = False,\n",
    "                            validation_data = (validX,validy),\n",
    "                            callbacks=[callbacks])\n"
   ]
  },
  {
   "cell_type": "code",
   "execution_count": 65,
   "metadata": {},
   "outputs": [
    {
     "data": {
      "text/plain": [
       "<matplotlib.legend.Legend at 0x1c4f1a6890>"
      ]
     },
     "execution_count": 65,
     "metadata": {},
     "output_type": "execute_result"
    },
    {
     "data": {
      "image/png": "[encoded data removed]",
      "text/plain": [
       "<Figure size 432x288 with 1 Axes>"
      ]
     },
     "metadata": {},
     "output_type": "display_data"
    }
   ],
   "source": [
    "loss = np.asarray(history.history[\"loss\"])\n",
    "loss_val = np.asarray(history.history[\"val_loss\"])\n",
    "plt.plot(loss)\n",
    "plt.plot(loss_val)\n",
    "plt.title('Loss')\n",
    "plt.xlabel(\"Iteration\")\n",
    "plt.ylabel(\"Loss Function\")\n",
    "plt.legend(['Training Loss Function','Validation Loss Function'])"
   ]
  },
  {
   "cell_type": "code",
   "execution_count": 70,
   "metadata": {},
   "outputs": [
    {
     "name": "stdout",
     "output_type": "stream",
     "text": [
      "The minimum Train loss happens on iteration 394\n",
      "0.3371005046928945\n"
     ]
    }
   ],
   "source": [
    "P = np.array(loss)\n",
    "print('The minimum Train loss happens on iteration', np.where(P == min(P))[0][0])\n",
    "print(min(P))"
   ]
  },
  {
   "cell_type": "code",
   "execution_count": 71,
   "metadata": {},
   "outputs": [
    {
     "name": "stdout",
     "output_type": "stream",
     "text": [
      "The minimum Validation loss happens on iteration 394\n",
      "0.40818588733673095\n"
     ]
    }
   ],
   "source": [
    "P = np.array(loss_val)\n",
    "print('The minimum Validation loss happens on iteration', np.where(P == min(P))[0][0])\n",
    "print(min(loss_val))"
   ]
  },
  {
   "cell_type": "markdown",
   "metadata": {},
   "source": [
    "<font color=\"magenta\"> THE IS NO SIGN OF OVERFITTING! </font>"
   ]
  },
  {
   "cell_type": "code",
   "execution_count": 82,
   "metadata": {},
   "outputs": [],
   "source": [
    "from sklearn import metrics\n",
    "\n",
    "new_y = model.predict(validX).ravel()\n",
    "y_pred_class = np.array([round(x) for x in new_y])\n",
    "confusion = metrics.confusion_matrix(validy, y_pred_class)\n",
    "TN, FP, FN, TP = confusion.ravel()\n",
    "sensitivity = TP / float(FN + TP)\n",
    "specificity = TN / (TN + FP)\n",
    "fpr,tpr,thresholds = metrics.roc_curve(validy,y_pred_class)\n",
    "auc_keras = metrics.auc(fpr,tpr)\n",
    "accu = metrics.accuracy_score(validy, y_pred_class)"
   ]
  },
  {
   "cell_type": "code",
   "execution_count": 85,
   "metadata": {},
   "outputs": [
    {
     "name": "stdout",
     "output_type": "stream",
     "text": [
      "Sensitivity: 0.9 Specificity: 0.7 AUC: 0.8 Accuracy: 0.8\n"
     ]
    }
   ],
   "source": [
    "print(\"Sensitivity:\",sensitivity,\"Specificity:\",specificity,\"AUC:\",round(auc_keras,2),\"Accuracy:\",accu)"
   ]
  },
  {
   "cell_type": "markdown",
   "metadata": {},
   "source": [
    "<font color=\"magenta\"> I would say this is pretty good. It can always be better by using, feature selection, interaction, reduction methods. I wander how the performance will improve by standardizing the data. </font>"
   ]
  },
  {
   "cell_type": "code",
   "execution_count": null,
   "metadata": {},
   "outputs": [],
   "source": []
  }
 ],
 "metadata": {
  "kernelspec": {
   "display_name": "Python 3",
   "language": "python",
   "name": "python3"
  },
  "language_info": {
   "codemirror_mode": {
    "name": "ipython",
    "version": 3
   },
   "file_extension": ".py",
   "mimetype": "text/x-python",
   "name": "python",
   "nbconvert_exporter": "python",
   "pygments_lexer": "ipython3",
   "version": "3.7.5"
  }
 },
 "nbformat": 4,
 "nbformat_minor": 2
}
